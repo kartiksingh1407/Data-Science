{
 "cells": [
  {
   "cell_type": "markdown",
   "id": "9bd10e22-8479-4ca9-a776-fb0e4b5c3e9c",
   "metadata": {},
   "source": [
    "### np.sort\r\n",
    "\r\n",
    "Return a sorted copy of an array.\r\n",
    "\r\n",
    "https://numpy.org/doc/stable/reference/generated/numpy.sort.html"
   ]
  },
  {
   "cell_type": "markdown",
   "id": "f9cd4a88-2561-44a5-b66e-518cbf1d87f3",
   "metadata": {},
   "source": [
    "Not Using sorted because it gives the result in list"
   ]
  },
  {
   "cell_type": "code",
   "execution_count": 1,
   "id": "2b47baa3-178e-4dad-b5d8-c2492b9e7342",
   "metadata": {},
   "outputs": [
    {
     "data": {
      "text/plain": [
       "array([61, 99, 63, 53, 98, 71, 67, 94,  7, 94, 90, 71, 13, 98, 33, 34, 64,\n",
       "       34, 78, 77, 83, 66, 30, 15, 28])"
      ]
     },
     "execution_count": 1,
     "metadata": {},
     "output_type": "execute_result"
    }
   ],
   "source": [
    "# Syntax\n",
    "import numpy as np\n",
    "a = np.random.randint(1,100,25)\n",
    "a"
   ]
  },
  {
   "cell_type": "code",
   "execution_count": 13,
   "id": "3230f804-841e-47ef-9d26-692bf4b67e2d",
   "metadata": {},
   "outputs": [
    {
     "data": {
      "text/plain": [
       "array([99, 98, 98, 94, 94, 90, 83, 78, 77, 71, 71, 67, 66, 64, 63, 61, 53,\n",
       "       34, 34, 33, 30, 28, 15, 13,  7])"
      ]
     },
     "execution_count": 13,
     "metadata": {},
     "output_type": "execute_result"
    }
   ],
   "source": [
    "np.sort(a)\n",
    "np.sort(a)[::-1] # for reversing"
   ]
  },
  {
   "cell_type": "code",
   "execution_count": 4,
   "id": "3c029a8e-9c58-4443-9536-2ad15d840d3e",
   "metadata": {},
   "outputs": [
    {
     "data": {
      "text/plain": [
       "array([[35, 98, 17, 33],\n",
       "       [68, 18,  3, 49],\n",
       "       [68, 57, 68, 73],\n",
       "       [ 7,  1, 85, 74],\n",
       "       [23, 34, 83, 16],\n",
       "       [41, 39, 26, 15]])"
      ]
     },
     "execution_count": 4,
     "metadata": {},
     "output_type": "execute_result"
    }
   ],
   "source": [
    "b = np.random.randint(1,100,24).reshape(6,4)\n",
    "b"
   ]
  },
  {
   "cell_type": "code",
   "execution_count": 10,
   "id": "63fc6c1f-e2d9-4044-956e-69742fd0afb1",
   "metadata": {},
   "outputs": [
    {
     "data": {
      "text/plain": [
       "array([[ 7,  1,  3, 15],\n",
       "       [23, 18, 17, 16],\n",
       "       [35, 34, 26, 33],\n",
       "       [41, 39, 68, 49],\n",
       "       [68, 57, 83, 73],\n",
       "       [68, 98, 85, 74]])"
      ]
     },
     "execution_count": 10,
     "metadata": {},
     "output_type": "execute_result"
    }
   ],
   "source": [
    "np.sort(b) # sorting done through row-wise\n",
    "np.sort(b,axis = 0) # coloumn wise sort"
   ]
  },
  {
   "cell_type": "markdown",
   "id": "fac1af49-34d8-453a-84df-1422d43ac3a4",
   "metadata": {},
   "source": [
    "### np.append\r\n",
    "\r\n",
    "The numpy.append() appends values along the mentioned axis at the end of the array\r\n",
    "\r\n",
    "https://numpy.org/doc/stable/reference/generated/numpy.append.html"
   ]
  },
  {
   "cell_type": "code",
   "execution_count": 14,
   "id": "60551e0e-6e47-4413-b463-b89bbe97ea37",
   "metadata": {},
   "outputs": [
    {
     "data": {
      "text/plain": [
       "array([ 61,  99,  63,  53,  98,  71,  67,  94,   7,  94,  90,  71,  13,\n",
       "        98,  33,  34,  64,  34,  78,  77,  83,  66,  30,  15,  28, 200])"
      ]
     },
     "execution_count": 14,
     "metadata": {},
     "output_type": "execute_result"
    }
   ],
   "source": [
    "# Syntax\n",
    "np.append(a,200) # last mein append"
   ]
  },
  {
   "cell_type": "code",
   "execution_count": 18,
   "id": "79761df8-8299-4f24-ab19-36951ea15afe",
   "metadata": {},
   "outputs": [
    {
     "data": {
      "text/plain": [
       "array([[35., 98., 17., 33.,  1.],\n",
       "       [68., 18.,  3., 49.,  1.],\n",
       "       [68., 57., 68., 73.,  1.],\n",
       "       [ 7.,  1., 85., 74.,  1.],\n",
       "       [23., 34., 83., 16.,  1.],\n",
       "       [41., 39., 26., 15.,  1.]])"
      ]
     },
     "execution_count": 18,
     "metadata": {},
     "output_type": "execute_result"
    }
   ],
   "source": [
    "# 2D array\n",
    "np.append(b,np.ones((b.shape[0],1)),axis=1)"
   ]
  },
  {
   "cell_type": "markdown",
   "id": "8904a4fb-91eb-4481-9e36-b41a106f00de",
   "metadata": {},
   "source": [
    "### np.concatenate\r\n",
    "\r\n",
    "numpy.concatenate() function concatenate a sequence of arrays along an existing axis.\r\n",
    "\r\n",
    "https://numpy.org/doc/stable/reference/generated/numpy.concatenate.html"
   ]
  },
  {
   "cell_type": "code",
   "execution_count": 33,
   "id": "d4714f01-cffc-4c2c-9549-3db6dec3bfc7",
   "metadata": {},
   "outputs": [
    {
     "name": "stdout",
     "output_type": "stream",
     "text": [
      "[[0 1 2]\n",
      " [3 4 5]]\n",
      "[[ 6  7  8]\n",
      " [ 9 10 11]]\n"
     ]
    }
   ],
   "source": [
    "# Syntax\n",
    "c = np.arange(6).reshape(2,3)\n",
    "d = np.arange(6,12).reshape(2,3) # shape should be same\n",
    "\n",
    "print(c)\n",
    "print(d)"
   ]
  },
  {
   "cell_type": "code",
   "execution_count": 32,
   "id": "4ef34c87-a6f3-474f-b956-b58d8b7edbd2",
   "metadata": {},
   "outputs": [
    {
     "data": {
      "text/plain": [
       "array([[ 0,  1,  2],\n",
       "       [ 3,  4,  5],\n",
       "       [ 6,  7,  8],\n",
       "       [ 9, 10, 11]])"
      ]
     },
     "execution_count": 32,
     "metadata": {},
     "output_type": "execute_result"
    }
   ],
   "source": [
    "np.concatenate((c,d)) # default coloumn wise"
   ]
  },
  {
   "cell_type": "code",
   "execution_count": 28,
   "id": "4b5cbf68-17da-4279-8f0d-53a58b1adeae",
   "metadata": {},
   "outputs": [
    {
     "data": {
      "text/plain": [
       "array([[ 0,  1,  2,  6,  7,  8],\n",
       "       [ 3,  4,  5,  9, 10, 11]])"
      ]
     },
     "execution_count": 28,
     "metadata": {},
     "output_type": "execute_result"
    }
   ],
   "source": [
    "np.concatenate((c,d),axis = 1)"
   ]
  },
  {
   "cell_type": "markdown",
   "id": "843f6345-36a7-4200-88b2-3eb3e1eff915",
   "metadata": {},
   "source": [
    "### np.unique\r\n",
    "\r\n",
    "With the help of np.unique() method, we can get the unique values from an array given as parameter in np.unique() method.\r\n",
    "\r\n",
    "https://numpy.org/doc/stable/reference/generated/numpy.unique.html/"
   ]
  },
  {
   "cell_type": "code",
   "execution_count": 34,
   "id": "8ae33293-35d8-49f7-b6c6-e1836f5c1606",
   "metadata": {},
   "outputs": [],
   "source": [
    "# Syntax\n",
    "e = np.array([1,1,2,2,3,3,4,4,5,5,6,6])"
   ]
  },
  {
   "cell_type": "code",
   "execution_count": 35,
   "id": "91663c27-51a3-4c49-80a3-9d3f3650d105",
   "metadata": {},
   "outputs": [
    {
     "data": {
      "text/plain": [
       "array([1, 2, 3, 4, 5, 6])"
      ]
     },
     "execution_count": 35,
     "metadata": {},
     "output_type": "execute_result"
    }
   ],
   "source": [
    "np.unique(e)"
   ]
  },
  {
   "cell_type": "markdown",
   "id": "f1600f11-d29e-4041-8dbd-aed30d1fa1ee",
   "metadata": {},
   "source": [
    "### np.expand_dims\r\n",
    "\r\n",
    "With the help of Numpy.expand_dims() method, we can get the expanded dimensions of an array\r\n",
    "\r\n",
    "https://numpy.org/doc/stable/reference/generated/numpy.expand_dims.html"
   ]
  },
  {
   "cell_type": "code",
   "execution_count": 36,
   "id": "515c18ed-ffde-41db-85e9-2d5f9fb0447c",
   "metadata": {},
   "outputs": [
    {
     "data": {
      "text/plain": [
       "array([61, 99, 63, 53, 98, 71, 67, 94,  7, 94, 90, 71, 13, 98, 33, 34, 64,\n",
       "       34, 78, 77, 83, 66, 30, 15, 28])"
      ]
     },
     "execution_count": 36,
     "metadata": {},
     "output_type": "execute_result"
    }
   ],
   "source": [
    "# Syntax\n",
    "a"
   ]
  },
  {
   "cell_type": "code",
   "execution_count": 39,
   "id": "9a1211ff-42ba-4c64-b0ad-d3fbf61ee2fe",
   "metadata": {},
   "outputs": [
    {
     "data": {
      "text/plain": [
       "array([[61, 99, 63, 53, 98, 71, 67, 94,  7, 94, 90, 71, 13, 98, 33, 34,\n",
       "        64, 34, 78, 77, 83, 66, 30, 15, 28]])"
      ]
     },
     "execution_count": 39,
     "metadata": {},
     "output_type": "execute_result"
    }
   ],
   "source": [
    "np.expand_dims(a,axis = 0)"
   ]
  },
  {
   "cell_type": "code",
   "execution_count": 40,
   "id": "8ea239eb-27f1-407e-b79a-c6065411bd7b",
   "metadata": {},
   "outputs": [
    {
     "data": {
      "text/plain": [
       "(1, 25)"
      ]
     },
     "execution_count": 40,
     "metadata": {},
     "output_type": "execute_result"
    }
   ],
   "source": [
    "np.expand_dims(a,axis = 0).shape"
   ]
  },
  {
   "cell_type": "markdown",
   "id": "c258e5dc-3b00-40c1-b5ce-58f9dae9ad6c",
   "metadata": {},
   "source": [
    "### np.where\r\n",
    "\r\n",
    "The numpy.where() function returns the indices of elements in an input array where the given condition is satisfied.\r\n",
    "\r\n",
    "https://numpy.org/doc/stable/reference/generated/numpy.where.html"
   ]
  },
  {
   "cell_type": "code",
   "execution_count": 41,
   "id": "29470cca-bbaf-4972-9782-6c327a9e6034",
   "metadata": {},
   "outputs": [
    {
     "data": {
      "text/plain": [
       "array([61, 99, 63, 53, 98, 71, 67, 94,  7, 94, 90, 71, 13, 98, 33, 34, 64,\n",
       "       34, 78, 77, 83, 66, 30, 15, 28])"
      ]
     },
     "execution_count": 41,
     "metadata": {},
     "output_type": "execute_result"
    }
   ],
   "source": [
    "# Syntax\n",
    "a"
   ]
  },
  {
   "cell_type": "code",
   "execution_count": 49,
   "id": "54f22210-8d18-41f0-871f-51f904f08294",
   "metadata": {},
   "outputs": [
    {
     "data": {
      "text/plain": [
       "(array([ 0,  1,  2,  3,  4,  5,  6,  7,  9, 10, 11, 13, 16, 18, 19, 20, 21],\n",
       "       dtype=int64),)"
      ]
     },
     "execution_count": 49,
     "metadata": {},
     "output_type": "execute_result"
    }
   ],
   "source": [
    "# find all indices with value greater than 50 \n",
    "np.where(a>50) # we are getting all the value of index"
   ]
  },
  {
   "cell_type": "code",
   "execution_count": 51,
   "id": "72c28c85-5bc8-4d61-80ea-d64f8a61cb87",
   "metadata": {},
   "outputs": [
    {
     "data": {
      "text/plain": [
       "array([ 0,  0,  0,  0,  0,  0,  0,  0,  7,  0,  0,  0, 13,  0, 33, 34,  0,\n",
       "       34,  0,  0,  0,  0, 30, 15, 28])"
      ]
     },
     "execution_count": 51,
     "metadata": {},
     "output_type": "execute_result"
    }
   ],
   "source": [
    "# replace all values > 50 with 0\n",
    "# np.where(condition,True,False)\n",
    "np.where(a>50,0,a)\n",
    "\n",
    "# If condition is true then value which is given at true we execute else it remains unchanged"
   ]
  },
  {
   "cell_type": "code",
   "execution_count": 52,
   "id": "df3f839a-8a08-4963-b980-35964420d5f6",
   "metadata": {},
   "outputs": [
    {
     "data": {
      "text/plain": [
       "array([61, 99, 63, 53,  0, 71, 67,  0,  7,  0,  0, 71, 13,  0, 33,  0,  0,\n",
       "        0,  0, 77, 83,  0,  0, 15,  0])"
      ]
     },
     "execution_count": 52,
     "metadata": {},
     "output_type": "execute_result"
    }
   ],
   "source": [
    "np.where(a%2 == 0,0,a)"
   ]
  },
  {
   "cell_type": "markdown",
   "id": "02b01f38-336e-4529-9836-e87a53e9cae5",
   "metadata": {},
   "source": [
    "### np.argmax\r\n",
    "\r\n",
    "The numpy.argmax() function returns indices of the max element of the array in a particular axis.\r\n",
    "\r\n",
    "https://numpy.org/doc/stable/reference/generated/numpy.argmax.html"
   ]
  },
  {
   "cell_type": "code",
   "execution_count": 53,
   "id": "1c612da6-cf68-4c03-b7a7-53ec6b5748d6",
   "metadata": {},
   "outputs": [
    {
     "data": {
      "text/plain": [
       "array([61, 99, 63, 53, 98, 71, 67, 94,  7, 94, 90, 71, 13, 98, 33, 34, 64,\n",
       "       34, 78, 77, 83, 66, 30, 15, 28])"
      ]
     },
     "execution_count": 53,
     "metadata": {},
     "output_type": "execute_result"
    }
   ],
   "source": [
    "# Syntax\n",
    "a"
   ]
  },
  {
   "cell_type": "code",
   "execution_count": 55,
   "id": "98c43427-6745-418b-afd4-7633f1c452a8",
   "metadata": {},
   "outputs": [
    {
     "data": {
      "text/plain": [
       "1"
      ]
     },
     "execution_count": 55,
     "metadata": {},
     "output_type": "execute_result"
    }
   ],
   "source": [
    "np.argmax(a) # tells at which the maxmium value is at"
   ]
  },
  {
   "cell_type": "code",
   "execution_count": 57,
   "id": "f951ec73-870c-4c4c-8beb-6655f407ca88",
   "metadata": {},
   "outputs": [
    {
     "data": {
      "text/plain": [
       "array([[35, 98, 17, 33],\n",
       "       [68, 18,  3, 49],\n",
       "       [68, 57, 68, 73],\n",
       "       [ 7,  1, 85, 74],\n",
       "       [23, 34, 83, 16],\n",
       "       [41, 39, 26, 15]])"
      ]
     },
     "execution_count": 57,
     "metadata": {},
     "output_type": "execute_result"
    }
   ],
   "source": [
    "b"
   ]
  },
  {
   "cell_type": "code",
   "execution_count": 63,
   "id": "655a56b0-a0d6-423f-91d2-10e54bfaf887",
   "metadata": {},
   "outputs": [
    {
     "data": {
      "text/plain": [
       "array([1, 0, 3, 3], dtype=int64)"
      ]
     },
     "execution_count": 63,
     "metadata": {},
     "output_type": "execute_result"
    }
   ],
   "source": [
    "np.argmax(b,axis = 0) # column wise"
   ]
  },
  {
   "cell_type": "code",
   "execution_count": 64,
   "id": "59225c59-4f19-45e3-9377-3735c24bada7",
   "metadata": {},
   "outputs": [
    {
     "data": {
      "text/plain": [
       "8"
      ]
     },
     "execution_count": 64,
     "metadata": {},
     "output_type": "execute_result"
    }
   ],
   "source": [
    "# For MINIMUM VALUE\n",
    "\n",
    "np.argmin(a)"
   ]
  },
  {
   "cell_type": "markdown",
   "id": "697390ec-bf19-4309-9897-9fdb0833cef8",
   "metadata": {},
   "source": [
    "### np.cumsum\r\n",
    "\r\n",
    "numpy.cumsum() function is used when we want to compute the cumulative sum of array elements over a given axis.\r\n",
    "\r\n",
    "https://numpy.org/doc/stable/reference/generated/numpy.cumsum.htmlhtml"
   ]
  },
  {
   "cell_type": "code",
   "execution_count": 65,
   "id": "013c340f-3cf8-402b-8ff3-cab3d92d31dd",
   "metadata": {},
   "outputs": [
    {
     "data": {
      "text/plain": [
       "array([61, 99, 63, 53, 98, 71, 67, 94,  7, 94, 90, 71, 13, 98, 33, 34, 64,\n",
       "       34, 78, 77, 83, 66, 30, 15, 28])"
      ]
     },
     "execution_count": 65,
     "metadata": {},
     "output_type": "execute_result"
    }
   ],
   "source": [
    "# cumsum ---> Cumulative Sum\n",
    "# To sum of all the number\n",
    "a"
   ]
  },
  {
   "cell_type": "code",
   "execution_count": 66,
   "id": "9f9d222e-63c4-4d90-94e6-c4fea76ee07b",
   "metadata": {},
   "outputs": [
    {
     "data": {
      "text/plain": [
       "array([  61,  160,  223,  276,  374,  445,  512,  606,  613,  707,  797,\n",
       "        868,  881,  979, 1012, 1046, 1110, 1144, 1222, 1299, 1382, 1448,\n",
       "       1478, 1493, 1521])"
      ]
     },
     "execution_count": 66,
     "metadata": {},
     "output_type": "execute_result"
    }
   ],
   "source": [
    "np.cumsum(a)"
   ]
  },
  {
   "cell_type": "code",
   "execution_count": 67,
   "id": "c4917689-44e1-4804-9508-bbd0388f5e0e",
   "metadata": {},
   "outputs": [
    {
     "data": {
      "text/plain": [
       "array([[35, 98, 17, 33],\n",
       "       [68, 18,  3, 49],\n",
       "       [68, 57, 68, 73],\n",
       "       [ 7,  1, 85, 74],\n",
       "       [23, 34, 83, 16],\n",
       "       [41, 39, 26, 15]])"
      ]
     },
     "execution_count": 67,
     "metadata": {},
     "output_type": "execute_result"
    }
   ],
   "source": [
    "b"
   ]
  },
  {
   "cell_type": "code",
   "execution_count": 69,
   "id": "1183e3d3-54b5-4de3-b5ef-125d2a8d4768",
   "metadata": {},
   "outputs": [
    {
     "data": {
      "text/plain": [
       "array([[ 35, 133, 150, 183],\n",
       "       [ 68,  86,  89, 138],\n",
       "       [ 68, 125, 193, 266],\n",
       "       [  7,   8,  93, 167],\n",
       "       [ 23,  57, 140, 156],\n",
       "       [ 41,  80, 106, 121]])"
      ]
     },
     "execution_count": 69,
     "metadata": {},
     "output_type": "execute_result"
    }
   ],
   "source": [
    "np.cumsum(b,axis = 1) # row - wise"
   ]
  },
  {
   "cell_type": "code",
   "execution_count": 70,
   "id": "e9e062b5-8b9b-4f4a-8800-d1bf33bd9a3e",
   "metadata": {},
   "outputs": [
    {
     "data": {
      "text/plain": [
       "array([61, 99, 63, 53, 98, 71, 67, 94,  7, 94, 90, 71, 13, 98, 33, 34, 64,\n",
       "       34, 78, 77, 83, 66, 30, 15, 28])"
      ]
     },
     "execution_count": 70,
     "metadata": {},
     "output_type": "execute_result"
    }
   ],
   "source": [
    "# For product\n",
    "a"
   ]
  },
  {
   "cell_type": "code",
   "execution_count": 72,
   "id": "54dafefa-982e-4f14-9c9a-1321293a9277",
   "metadata": {},
   "outputs": [
    {
     "data": {
      "text/plain": [
       "array([         61,        6039,      380457,    20164221,  1976093658,\n",
       "       -1431271050, -1405879838,   991281404, -1650964764,  -571865160,\n",
       "          71743152,   798796496,  1794419856,  -240513248,   652997408,\n",
       "         727075392,  -711815168,  1568088064,  2051784704,  -926367744,\n",
       "         420888576,  2008842240,   135725056,  2035875840,  1169948672])"
      ]
     },
     "execution_count": 72,
     "metadata": {},
     "output_type": "execute_result"
    }
   ],
   "source": [
    "np.cumprod(a)\n",
    "\n",
    "# giving negative number even though it is positive list because dtype = int64 cannot hold that many value then it changes the value"
   ]
  },
  {
   "cell_type": "markdown",
   "id": "e2f9b74f-c265-481a-9035-6b7cec38e6b4",
   "metadata": {},
   "source": [
    "### np.percentile\r\n",
    "\r\n",
    "numpy.percentile()function used to compute the nth percentile of the given data (array elements) along the specified axis. \r\n",
    "\r\n",
    "https://numpy.org/doc/stable/reference/generated/numpy.percentile.html"
   ]
  },
  {
   "cell_type": "code",
   "execution_count": 74,
   "id": "5e81bc45-d90b-480c-9e69-d0ac9684ce4b",
   "metadata": {},
   "outputs": [
    {
     "data": {
      "text/plain": [
       "array([61, 99, 63, 53, 98, 71, 67, 94,  7, 94, 90, 71, 13, 98, 33, 34, 64,\n",
       "       34, 78, 77, 83, 66, 30, 15, 28])"
      ]
     },
     "execution_count": 74,
     "metadata": {},
     "output_type": "execute_result"
    }
   ],
   "source": [
    "# Syntax\n",
    "a"
   ]
  },
  {
   "cell_type": "code",
   "execution_count": 75,
   "id": "9d17ca51-9ed5-46b0-8c5a-17950008d8bb",
   "metadata": {},
   "outputs": [
    {
     "data": {
      "text/plain": [
       "99.0"
      ]
     },
     "execution_count": 75,
     "metadata": {},
     "output_type": "execute_result"
    }
   ],
   "source": [
    "np.percentile(a,100)"
   ]
  },
  {
   "cell_type": "code",
   "execution_count": 76,
   "id": "5c7377df-b95d-491e-bd81-ff467b8090db",
   "metadata": {},
   "outputs": [
    {
     "data": {
      "text/plain": [
       "66.0"
      ]
     },
     "execution_count": 76,
     "metadata": {},
     "output_type": "execute_result"
    }
   ],
   "source": [
    "np.percentile(a,50)"
   ]
  },
  {
   "cell_type": "markdown",
   "id": "e536c5f1-d1a0-480f-ac9e-a7013c006af7",
   "metadata": {},
   "source": [
    "### np.histogram\r\n",
    "\r\n",
    "Numpy has a built-in numpy.histogram() function which represents the frequency of data distribution in the graphical form.\r\n",
    "\r\n",
    "https://numpy.org/doc/stable/reference/generated/numpy.histogram.html"
   ]
  },
  {
   "cell_type": "code",
   "execution_count": 78,
   "id": "28dee155-c7ef-4523-8866-c497c735c94c",
   "metadata": {},
   "outputs": [
    {
     "data": {
      "text/plain": [
       "array([61, 99, 63, 53, 98, 71, 67, 94,  7, 94, 90, 71, 13, 98, 33, 34, 64,\n",
       "       34, 78, 77, 83, 66, 30, 15, 28])"
      ]
     },
     "execution_count": 78,
     "metadata": {},
     "output_type": "execute_result"
    }
   ],
   "source": [
    "# Syntax\n",
    "a"
   ]
  },
  {
   "cell_type": "code",
   "execution_count": 79,
   "id": "59cb4a99-c67c-4bbe-8c85-d3146fc6290f",
   "metadata": {},
   "outputs": [
    {
     "data": {
      "text/plain": [
       "(array([3, 0, 5, 0, 0, 2, 6, 2, 1, 6], dtype=int64),\n",
       " array([ 7. , 16.2, 25.4, 34.6, 43.8, 53. , 62.2, 71.4, 80.6, 89.8, 99. ]))"
      ]
     },
     "execution_count": 79,
     "metadata": {},
     "output_type": "execute_result"
    }
   ],
   "source": [
    "np.histogram(a)"
   ]
  },
  {
   "cell_type": "code",
   "execution_count": 82,
   "id": "4f23eb33-6511-490a-9852-9f2d3634984d",
   "metadata": {},
   "outputs": [
    {
     "data": {
      "text/plain": [
       "(array([1, 2, 1, 4, 0, 1, 5, 4, 1, 6], dtype=int64),\n",
       " array([  0,  10,  20,  30,  40,  50,  60,  70,  80,  90, 100]))"
      ]
     },
     "execution_count": 82,
     "metadata": {},
     "output_type": "execute_result"
    }
   ],
   "source": [
    "np.histogram(a,bins=[0,10,20,30,40,50,60,70,80,90,100])"
   ]
  },
  {
   "cell_type": "markdown",
   "id": "3a25121e-d6ac-414f-b7d6-cf87bc6964db",
   "metadata": {},
   "source": [
    "### np.corrcoef\r\n",
    "\r\n",
    "Return Pearson product-moment correlation coefficients.\r\n",
    "\r\n",
    "https://numpy.org/doc/stable/reference/generated/numpy.corrcoef.html"
   ]
  },
  {
   "cell_type": "code",
   "execution_count": 86,
   "id": "c24496ff-232b-4370-bc10-599775a0d384",
   "metadata": {},
   "outputs": [
    {
     "data": {
      "text/plain": [
       "array([[1.        , 0.25344572],\n",
       "       [0.25344572, 1.        ]])"
      ]
     },
     "execution_count": 86,
     "metadata": {},
     "output_type": "execute_result"
    }
   ],
   "source": [
    "# Syntax\n",
    "salary = np.array([20000,40000,25000,35000,60000])\n",
    "experience = np.array([1,3,2,4,2])\n",
    "\n",
    "np.corrcoef(salary,experience)"
   ]
  },
  {
   "cell_type": "markdown",
   "id": "76a8802d-5723-481c-9826-66fd26455e8c",
   "metadata": {},
   "source": [
    "### np.isin\r\n",
    "\r\n",
    "With the help of numpy.isin() method, we can see that one array having values are checked in a different numpy array having different elements with different sizes.\r\n",
    "\r\n",
    "https://numpy.org/doc/stable/reference/generated/numpy.isin.html"
   ]
  },
  {
   "cell_type": "code",
   "execution_count": 84,
   "id": "9f9a430c-82dc-42ac-b33f-6cb649c6c481",
   "metadata": {},
   "outputs": [
    {
     "data": {
      "text/plain": [
       "array([61, 99, 63, 53, 98, 71, 67, 94,  7, 94, 90, 71, 13, 98, 33, 34, 64,\n",
       "       34, 78, 77, 83, 66, 30, 15, 28])"
      ]
     },
     "execution_count": 84,
     "metadata": {},
     "output_type": "execute_result"
    }
   ],
   "source": [
    "# Syntax\n",
    "a"
   ]
  },
  {
   "cell_type": "code",
   "execution_count": 89,
   "id": "a276a61f-eea3-41fb-b838-15eda748b2a7",
   "metadata": {},
   "outputs": [
    {
     "data": {
      "text/plain": [
       "array([False, False, False, False, False, False, False, False, False,\n",
       "       False,  True, False, False, False, False, False, False, False,\n",
       "       False, False, False, False,  True, False, False])"
      ]
     },
     "execution_count": 89,
     "metadata": {},
     "output_type": "execute_result"
    }
   ],
   "source": [
    "items = [10,20,30,40,50,60,70,80,90,100]\n",
    "\n",
    "np.isin(a,items) # searching multiple item"
   ]
  },
  {
   "cell_type": "code",
   "execution_count": 90,
   "id": "a976dff5-a181-4bdc-8b89-a5e8d367b7f6",
   "metadata": {},
   "outputs": [
    {
     "data": {
      "text/plain": [
       "array([90, 30])"
      ]
     },
     "execution_count": 90,
     "metadata": {},
     "output_type": "execute_result"
    }
   ],
   "source": [
    "items = [10,20,30,40,50,60,70,80,90,100]\n",
    "\n",
    "a[np.isin(a,items)] # searching multiple item"
   ]
  },
  {
   "cell_type": "markdown",
   "id": "8492e1e0-f5db-4407-95e9-6373b4d2812e",
   "metadata": {},
   "source": [
    "### np.flip\r\n",
    "\r\n",
    "The numpy.flip() function reverses the order of array elements along the specified axis, preserving the shape of the array.\r\n",
    "\r\n",
    "https://numpy.org/doc/stable/reference/generated/numpy.flip.html"
   ]
  },
  {
   "cell_type": "code",
   "execution_count": 91,
   "id": "4d384354-8193-4243-82ad-507478dc4e0d",
   "metadata": {},
   "outputs": [
    {
     "data": {
      "text/plain": [
       "array([61, 99, 63, 53, 98, 71, 67, 94,  7, 94, 90, 71, 13, 98, 33, 34, 64,\n",
       "       34, 78, 77, 83, 66, 30, 15, 28])"
      ]
     },
     "execution_count": 91,
     "metadata": {},
     "output_type": "execute_result"
    }
   ],
   "source": [
    "# Syntax\n",
    "a"
   ]
  },
  {
   "cell_type": "code",
   "execution_count": 92,
   "id": "9837cec8-b041-4fb4-b6cc-b993af9ed93e",
   "metadata": {},
   "outputs": [
    {
     "data": {
      "text/plain": [
       "array([28, 15, 30, 66, 83, 77, 78, 34, 64, 34, 33, 98, 13, 71, 90, 94,  7,\n",
       "       94, 67, 71, 98, 53, 63, 99, 61])"
      ]
     },
     "execution_count": 92,
     "metadata": {},
     "output_type": "execute_result"
    }
   ],
   "source": [
    "np.flip(a)"
   ]
  },
  {
   "cell_type": "code",
   "execution_count": 95,
   "id": "a7baae77-413e-4734-9027-f505105c33dc",
   "metadata": {},
   "outputs": [
    {
     "data": {
      "text/plain": [
       "array([[35, 98, 17, 33],\n",
       "       [68, 18,  3, 49],\n",
       "       [68, 57, 68, 73],\n",
       "       [ 7,  1, 85, 74],\n",
       "       [23, 34, 83, 16],\n",
       "       [41, 39, 26, 15]])"
      ]
     },
     "execution_count": 95,
     "metadata": {},
     "output_type": "execute_result"
    }
   ],
   "source": [
    "# 2D array\n",
    "b"
   ]
  },
  {
   "cell_type": "code",
   "execution_count": 96,
   "id": "fbc9f6eb-1b1e-45c7-a633-68ec79a9817f",
   "metadata": {},
   "outputs": [
    {
     "data": {
      "text/plain": [
       "array([[33, 17, 98, 35],\n",
       "       [49,  3, 18, 68],\n",
       "       [73, 68, 57, 68],\n",
       "       [74, 85,  1,  7],\n",
       "       [16, 83, 34, 23],\n",
       "       [15, 26, 39, 41]])"
      ]
     },
     "execution_count": 96,
     "metadata": {},
     "output_type": "execute_result"
    }
   ],
   "source": [
    "np.flip(b,axis = 1)"
   ]
  },
  {
   "cell_type": "markdown",
   "id": "4d735a84-be5d-4086-8150-14b31eabc269",
   "metadata": {},
   "source": [
    "### np.put\n",
    "\n",
    "The numpy.put() function replaces specific elements of an array with given values of p_array. Array indexed works on flattened array. \n",
    "\n",
    "https://numpy.org/doc/stable/reference/generated/numpy.put.html"
   ]
  },
  {
   "cell_type": "code",
   "execution_count": 98,
   "id": "295973a3-d49e-4fd6-bcd7-77d7c11ed63b",
   "metadata": {},
   "outputs": [
    {
     "data": {
      "text/plain": [
       "array([61, 99, 63, 53, 98, 71, 67, 94,  7, 94, 90, 71, 13, 98, 33, 34, 64,\n",
       "       34, 78, 77, 83, 66, 30, 15, 28])"
      ]
     },
     "execution_count": 98,
     "metadata": {},
     "output_type": "execute_result"
    }
   ],
   "source": [
    "# Syntax\n",
    "a"
   ]
  },
  {
   "cell_type": "code",
   "execution_count": 110,
   "id": "0c528b66-3080-4006-ac7f-4c77e7e5ad4d",
   "metadata": {},
   "outputs": [],
   "source": [
    "np.put(a,[0,1],[110,530]) # index & items & changing is also allowed"
   ]
  },
  {
   "cell_type": "code",
   "execution_count": 100,
   "id": "ac6a68e8-08d8-427e-8999-079fdb2cb6c6",
   "metadata": {},
   "outputs": [
    {
     "data": {
      "text/plain": [
       "array([110, 530,  63,  53,  98,  71,  67,  94,   7,  94,  90,  71,  13,\n",
       "        98,  33,  34,  64,  34,  78,  77,  83,  66,  30,  15,  28])"
      ]
     },
     "execution_count": 100,
     "metadata": {},
     "output_type": "execute_result"
    }
   ],
   "source": [
    "a"
   ]
  },
  {
   "cell_type": "markdown",
   "id": "2afead59-0ad5-4d2d-a32e-6eae034bfd94",
   "metadata": {},
   "source": [
    "### np.delete\n",
    "\n",
    "The numpy.delete() function returns a new array with the deletion of sub-arrays along with the mentioned axis. \n",
    "\n",
    "https://numpy.org/doc/stable/reference/generated/numpy.delete.html"
   ]
  },
  {
   "cell_type": "code",
   "execution_count": 102,
   "id": "934c995c-e508-484d-b745-4a4514a6fa34",
   "metadata": {},
   "outputs": [
    {
     "data": {
      "text/plain": [
       "array([110, 530,  63,  53,  98,  71,  67,  94,   7,  94,  90,  71,  13,\n",
       "        98,  33,  34,  64,  34,  78,  77,  83,  66,  30,  15,  28])"
      ]
     },
     "execution_count": 102,
     "metadata": {},
     "output_type": "execute_result"
    }
   ],
   "source": [
    "# Syntax\n",
    "a"
   ]
  },
  {
   "cell_type": "code",
   "execution_count": 103,
   "id": "a9dbcc80-8938-4a9e-905f-ea385c51beab",
   "metadata": {},
   "outputs": [
    {
     "data": {
      "text/plain": [
       "array([530,  53,  71,  67,  94,   7,  94,  90,  71,  13,  98,  33,  34,\n",
       "        64,  34,  78,  77,  83,  66,  30,  15,  28])"
      ]
     },
     "execution_count": 103,
     "metadata": {},
     "output_type": "execute_result"
    }
   ],
   "source": [
    "np.delete(a,[0,2,4])"
   ]
  },
  {
   "cell_type": "code",
   "execution_count": 111,
   "id": "27a7fa5c-dce9-4643-b647-db97e8d1f4f0",
   "metadata": {},
   "outputs": [
    {
     "data": {
      "text/plain": [
       "array([[35, 98, 17, 33],\n",
       "       [68, 18,  3, 49],\n",
       "       [68, 57, 68, 73],\n",
       "       [ 7,  1, 85, 74],\n",
       "       [23, 34, 83, 16],\n",
       "       [41, 39, 26, 15]])"
      ]
     },
     "execution_count": 111,
     "metadata": {},
     "output_type": "execute_result"
    }
   ],
   "source": [
    "b"
   ]
  },
  {
   "cell_type": "code",
   "execution_count": 119,
   "id": "4828e19a-bbbf-4bd4-860b-336552491fab",
   "metadata": {},
   "outputs": [
    {
     "data": {
      "text/plain": [
       "array([[98, 17, 33],\n",
       "       [18,  3, 49],\n",
       "       [57, 68, 73],\n",
       "       [ 1, 85, 74],\n",
       "       [34, 83, 16],\n",
       "       [39, 26, 15]])"
      ]
     },
     "execution_count": 119,
     "metadata": {},
     "output_type": "execute_result"
    }
   ],
   "source": [
    "np.delete(b,[0],axis = 1)"
   ]
  },
  {
   "cell_type": "markdown",
   "id": "108d63b0-b140-4bb0-886a-61521efdfcb1",
   "metadata": {},
   "source": [
    "### Set functions\r\n",
    "\r\n",
    "- np.union1d\r\n",
    "- np.intersect1d\r\n",
    "- np.setdiff1d\r\n",
    "- np.setxor1d\r\n",
    "- np.in1dp.in1d"
   ]
  },
  {
   "cell_type": "code",
   "execution_count": 104,
   "id": "891c1dbe-1f06-4093-81f9-3f999856d9c4",
   "metadata": {},
   "outputs": [
    {
     "data": {
      "text/plain": [
       "array([1, 2, 3, 4, 5, 6, 7])"
      ]
     },
     "execution_count": 104,
     "metadata": {},
     "output_type": "execute_result"
    }
   ],
   "source": [
    "m = np.array([1,2,3,4,5])\n",
    "n = np.array([3,4,5,6,7])\n",
    "\n",
    "np.union1d(m,n)"
   ]
  },
  {
   "cell_type": "code",
   "execution_count": 122,
   "id": "6fbbbe91-7438-4a1c-96d7-48f7fed023ae",
   "metadata": {},
   "outputs": [
    {
     "data": {
      "text/plain": [
       "array([3, 4, 5])"
      ]
     },
     "execution_count": 122,
     "metadata": {},
     "output_type": "execute_result"
    }
   ],
   "source": [
    "np.intersect1d(m,n) # prints common"
   ]
  },
  {
   "cell_type": "code",
   "execution_count": 121,
   "id": "651d0bdc-83ae-4523-9cf9-4c632243f7a8",
   "metadata": {},
   "outputs": [
    {
     "data": {
      "text/plain": [
       "array([6, 7])"
      ]
     },
     "execution_count": 121,
     "metadata": {},
     "output_type": "execute_result"
    }
   ],
   "source": [
    "np.setdiff1d(n,m) # printing the value which the other set is missing"
   ]
  },
  {
   "cell_type": "code",
   "execution_count": 120,
   "id": "3ddc9946-6903-4373-9214-783c0f71915c",
   "metadata": {},
   "outputs": [
    {
     "data": {
      "text/plain": [
       "array([1, 2, 6, 7])"
      ]
     },
     "execution_count": 120,
     "metadata": {},
     "output_type": "execute_result"
    }
   ],
   "source": [
    "np.setxor1d(m,n) # removing common"
   ]
  },
  {
   "cell_type": "code",
   "execution_count": 124,
   "id": "e07ac7a9-4467-4bcc-abe0-cd3b4e8d0282",
   "metadata": {},
   "outputs": [
    {
     "data": {
      "text/plain": [
       "array([False,  True, False, False, False])"
      ]
     },
     "execution_count": 124,
     "metadata": {},
     "output_type": "execute_result"
    }
   ],
   "source": [
    "np.in1d(m,2) # Checks if value is given or not"
   ]
  },
  {
   "cell_type": "code",
   "execution_count": 126,
   "id": "6a398f85-061c-4f8c-bbbc-bd10b1ee26b6",
   "metadata": {},
   "outputs": [
    {
     "data": {
      "text/plain": [
       "array([2])"
      ]
     },
     "execution_count": 126,
     "metadata": {},
     "output_type": "execute_result"
    }
   ],
   "source": [
    "m[np.in1d(m,2)]"
   ]
  },
  {
   "cell_type": "markdown",
   "id": "e7167941-441b-48b6-ba29-027d5f1fa25e",
   "metadata": {},
   "source": [
    "### np.clip\r\n",
    "\r\n",
    "numpy.clip() function is used to Clip (limit) the values in an array.\r\n",
    "\r\n",
    "https://numpy.org/doc/stable/reference/generated/numpy.clip.html"
   ]
  },
  {
   "cell_type": "code",
   "execution_count": 127,
   "id": "c0c0b943-41e7-4789-91a9-ec0f75d25292",
   "metadata": {},
   "outputs": [
    {
     "data": {
      "text/plain": [
       "array([110, 530,  63,  53,  98,  71,  67,  94,   7,  94,  90,  71,  13,\n",
       "        98,  33,  34,  64,  34,  78,  77,  83,  66,  30,  15,  28])"
      ]
     },
     "execution_count": 127,
     "metadata": {},
     "output_type": "execute_result"
    }
   ],
   "source": [
    "# Syntax\n",
    "a"
   ]
  },
  {
   "cell_type": "code",
   "execution_count": 130,
   "id": "e3c927e0-9687-469b-92f8-6ff19bd7f43a",
   "metadata": {},
   "outputs": [
    {
     "data": {
      "text/plain": [
       "array([75, 75, 63, 53, 75, 71, 67, 75, 25, 75, 75, 71, 25, 75, 33, 34, 64,\n",
       "       34, 75, 75, 75, 66, 30, 25, 28])"
      ]
     },
     "execution_count": 130,
     "metadata": {},
     "output_type": "execute_result"
    }
   ],
   "source": [
    "np.clip(a,a_min = 25, a_max = 75) # changing the value in certain range"
   ]
  },
  {
   "cell_type": "code",
   "execution_count": null,
   "id": "8470bb2f-63dc-4f65-b859-08f49b1acaf2",
   "metadata": {},
   "outputs": [],
   "source": []
  }
 ],
 "metadata": {
  "kernelspec": {
   "display_name": "Python 3 (ipykernel)",
   "language": "python",
   "name": "python3"
  },
  "language_info": {
   "codemirror_mode": {
    "name": "ipython",
    "version": 3
   },
   "file_extension": ".py",
   "mimetype": "text/x-python",
   "name": "python",
   "nbconvert_exporter": "python",
   "pygments_lexer": "ipython3",
   "version": "3.11.7"
  }
 },
 "nbformat": 4,
 "nbformat_minor": 5
}
