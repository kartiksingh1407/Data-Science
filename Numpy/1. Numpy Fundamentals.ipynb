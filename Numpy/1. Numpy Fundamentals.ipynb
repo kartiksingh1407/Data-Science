{
 "cells": [
  {
   "cell_type": "markdown",
   "id": "fe3edb0e-1ed4-462e-b83f-ae90b9fb207b",
   "metadata": {},
   "source": [
    "### What is numpy?\r\n",
    "\r\n",
    "NumPy is the fundamental package for scientific computing in Python. It is a Python library that provides a multidimensional array object, various derived objects (such as masked arrays and matrices), and an assortment of routines for fast operations on arrays, including mathematical, logical, shape manipulation, sorting, selecting, I/O, discrete Fourier transforms, basic linear algebra, basic statistical operations, random simulation and much more.\r\n",
    "\r\n",
    "\r\n",
    "At the core of the NumPy package, is the ndarray object. This encapsulates n-dimensional arrays of homogeneous data types"
   ]
  },
  {
   "cell_type": "markdown",
   "id": "b15b06d2-6dc6-47e8-b604-9e9bc54f4011",
   "metadata": {},
   "source": [
    "### Numpy Arrays Vs Python Sequences\r\n",
    "\r\n",
    "- NumPy arrays have a fixed size at creation, unlike Python lists (which can grow dynamically). Changing the size of an ndarray will create a new array and delete the original.\r\n",
    "\r\n",
    "- The elements in a NumPy array are all required to be of the same data type, and thus will be the same size in memory.\r\n",
    "\r\n",
    "- NumPy arrays facilitate advanced mathematical and other types of operations on large numbers of data. Typically, such operations are executed more efficiently and with less code than is possible using Python’s built-in sequences.\r\n",
    "\r\n",
    "- A growing plethora of scientific and mathematical Python-based packages are using NumPy arrays; though these typically support Python-sequence input, they convert such input to NumPy arrays prior to processing, and they often output NumPy arrays."
   ]
  },
  {
   "cell_type": "markdown",
   "id": "cca9d7a5-56ad-42c8-a337-e5d9c135bfe9",
   "metadata": {},
   "source": [
    "**Creating Numpy Arrays**"
   ]
  },
  {
   "cell_type": "code",
   "execution_count": 2,
   "id": "de328ca9-87ab-460a-b249-ad53aba35dd2",
   "metadata": {},
   "outputs": [
    {
     "name": "stdout",
     "output_type": "stream",
     "text": [
      "[1 2 3]\n",
      "<class 'numpy.ndarray'>\n"
     ]
    }
   ],
   "source": [
    "# As numpy is library we need to import it.\n",
    "\n",
    "import numpy as np\n",
    "\n",
    "np.array([1,2,3])\n",
    "# can be stored in variable\n",
    "a = np.array([1,2,3])   # this is a 1D array --> Vector\n",
    "print(a)\n",
    "print(type(a))"
   ]
  },
  {
   "cell_type": "code",
   "execution_count": 8,
   "id": "3a37c2c7-8154-4a21-8bd2-56054eb6a85a",
   "metadata": {},
   "outputs": [
    {
     "name": "stdout",
     "output_type": "stream",
     "text": [
      "[[1 2 3]\n",
      " [4 5 6]]\n"
     ]
    }
   ],
   "source": [
    "#2D array\n",
    "\n",
    "b = np.array([[1,2,3],[4,5,6]])  # 2D array --> Matrix\n",
    "print(b)"
   ]
  },
  {
   "cell_type": "code",
   "execution_count": 11,
   "id": "a5ae90c4-c18c-4f94-b9c5-6bf1418687be",
   "metadata": {},
   "outputs": [
    {
     "name": "stdout",
     "output_type": "stream",
     "text": [
      "[[[1 2]\n",
      "  [3 4]]\n",
      "\n",
      " [[5 6]\n",
      "  [7 8]]]\n"
     ]
    }
   ],
   "source": [
    "# 3D array (No restriction for creating any number of dimension)\n",
    "c = np.array([[[1,2],[3,4]],[[5,6],[7,8]]])  #3D array --> Tenser\n",
    "print(c)"
   ]
  },
  {
   "cell_type": "code",
   "execution_count": 11,
   "id": "5ea3081e-2b1e-4276-a953-2ce121d8a34a",
   "metadata": {},
   "outputs": [
    {
     "data": {
      "text/plain": [
       "array([1.+0.j, 2.+0.j, 3.+0.j])"
      ]
     },
     "execution_count": 11,
     "metadata": {},
     "output_type": "execute_result"
    }
   ],
   "source": [
    "# We can make any data type ka np array\n",
    "# Syntax --> dtype \n",
    "# default is float\n",
    "\n",
    "np.array([1,2,3],dtype = float)\n",
    "np.array([1,2,3],dtype = bool)\n",
    "np.array([1,2,3],dtype = complex)\n",
    "#np.array([1,2,3],dtype = str)"
   ]
  },
  {
   "cell_type": "code",
   "execution_count": 21,
   "id": "ab5d1d0a-cc4c-4c32-82e7-72edf96a957e",
   "metadata": {},
   "outputs": [
    {
     "data": {
      "text/plain": [
       "array([1, 3, 5, 7, 9])"
      ]
     },
     "execution_count": 21,
     "metadata": {},
     "output_type": "execute_result"
    }
   ],
   "source": [
    "# np.arange\n",
    "np.arange(1,11,2) # first include second exclude(exactly as range)"
   ]
  },
  {
   "cell_type": "code",
   "execution_count": 26,
   "id": "b87d2504-fbc1-49a8-a3dd-5c526997846e",
   "metadata": {},
   "outputs": [
    {
     "data": {
      "text/plain": [
       "array([[ 1,  2,  3,  4],\n",
       "       [ 5,  6,  7,  8],\n",
       "       [ 9, 10, 11, 12]])"
      ]
     },
     "execution_count": 26,
     "metadata": {},
     "output_type": "execute_result"
    }
   ],
   "source": [
    "# with reshape\n",
    "\n",
    "np.arange(1,13).reshape(3,4) # changes into rows and columns (both number product should be equal to range)"
   ]
  },
  {
   "cell_type": "code",
   "execution_count": 29,
   "id": "e799039b-6535-4a9e-87ca-9dcaf9ab4939",
   "metadata": {},
   "outputs": [
    {
     "data": {
      "text/plain": [
       "array([[1., 1., 1., 1.],\n",
       "       [1., 1., 1., 1.],\n",
       "       [1., 1., 1., 1.]])"
      ]
     },
     "execution_count": 29,
     "metadata": {},
     "output_type": "execute_result"
    }
   ],
   "source": [
    "# np.ones and np.zeros\n",
    "np.ones((3,4)) # creates every item as 1 # needs a tuple and the shape\n",
    "# Use --> to initialize arrays"
   ]
  },
  {
   "cell_type": "code",
   "execution_count": 5,
   "id": "cd9a10ee-79f2-452c-97f4-c9503ed5d842",
   "metadata": {},
   "outputs": [
    {
     "data": {
      "text/plain": [
       "array([[0., 0., 0., 0.],\n",
       "       [0., 0., 0., 0.],\n",
       "       [0., 0., 0., 0.]])"
      ]
     },
     "execution_count": 5,
     "metadata": {},
     "output_type": "execute_result"
    }
   ],
   "source": [
    "np.zeros((3,4))"
   ]
  },
  {
   "cell_type": "code",
   "execution_count": 12,
   "id": "85a91a0f-66d8-4699-8186-775a5674ca14",
   "metadata": {},
   "outputs": [
    {
     "data": {
      "text/plain": [
       "array([[0.75802227, 0.61846867, 0.66392524, 0.697492  ],\n",
       "       [0.51435451, 0.49738546, 0.95510109, 0.54738306],\n",
       "       [0.71967813, 0.68007163, 0.10303519, 0.97782671]])"
      ]
     },
     "execution_count": 12,
     "metadata": {},
     "output_type": "execute_result"
    }
   ],
   "source": [
    "np.random.random((3,4)) # 0 se 1 ke beech mein random number\n",
    "# random is class method name is also random"
   ]
  },
  {
   "cell_type": "code",
   "execution_count": 8,
   "id": "7d211aa8-5728-465a-a7a3-8b5e2328f078",
   "metadata": {},
   "outputs": [
    {
     "data": {
      "text/plain": [
       "array([-10.        ,  -7.77777778,  -5.55555556,  -3.33333333,\n",
       "        -1.11111111,   1.11111111,   3.33333333,   5.55555556,\n",
       "         7.77777778,  10.        ])"
      ]
     },
     "execution_count": 8,
     "metadata": {},
     "output_type": "execute_result"
    }
   ],
   "source": [
    "# np.linspace --> linear space \n",
    "# 1. lower range -- 2. upper range -- 3. number of items\n",
    "# generates points at equal distance\n",
    "\n",
    "np.linspace(-10,10,10)"
   ]
  },
  {
   "cell_type": "code",
   "execution_count": 10,
   "id": "5a8df07c-1345-4e19-9c92-b2cd6f0ab35d",
   "metadata": {},
   "outputs": [
    {
     "data": {
      "text/plain": [
       "array([[1., 0., 0.],\n",
       "       [0., 1., 0.],\n",
       "       [0., 0., 1.]])"
      ]
     },
     "execution_count": 10,
     "metadata": {},
     "output_type": "execute_result"
    }
   ],
   "source": [
    "#np.identity\n",
    "# creating identity matrix\n",
    "np.identity(3)"
   ]
  },
  {
   "cell_type": "markdown",
   "id": "b24a6fdf-57e2-42b3-9ac6-fdab71a01aa3",
   "metadata": {},
   "source": [
    "**Array Attribute**"
   ]
  },
  {
   "cell_type": "code",
   "execution_count": 3,
   "id": "e9ab55a4-75b1-4b1f-a72b-022af2812c21",
   "metadata": {},
   "outputs": [],
   "source": [
    "a1 = np.arange(10)\n",
    "a2 = np.arange(12,dtype=float).reshape(3,4)\n",
    "a3 = np.arange(8).reshape(2,2,2)"
   ]
  },
  {
   "cell_type": "code",
   "execution_count": 5,
   "id": "585dee1b-70a7-4a00-9042-08d004bdce0f",
   "metadata": {},
   "outputs": [
    {
     "data": {
      "text/plain": [
       "3"
      ]
     },
     "execution_count": 5,
     "metadata": {},
     "output_type": "execute_result"
    }
   ],
   "source": [
    "# ndim  ---> Tells the dimension of array\n",
    "a3.ndim"
   ]
  },
  {
   "cell_type": "code",
   "execution_count": 8,
   "id": "b5125f87-331d-44fa-9715-d01e7bc5beea",
   "metadata": {},
   "outputs": [
    {
     "name": "stdout",
     "output_type": "stream",
     "text": [
      "(2, 2, 2)\n"
     ]
    },
    {
     "data": {
      "text/plain": [
       "array([[[0, 1],\n",
       "        [2, 3]],\n",
       "\n",
       "       [[4, 5],\n",
       "        [6, 7]]])"
      ]
     },
     "execution_count": 8,
     "metadata": {},
     "output_type": "execute_result"
    }
   ],
   "source": [
    "# shape --> tells rows and coloumns\n",
    "print(a3.shape) # first number kitne 2D array hai then rows and coloumns\n",
    "a3 "
   ]
  },
  {
   "cell_type": "code",
   "execution_count": 9,
   "id": "19feeebe-eced-4607-87ee-81516874767f",
   "metadata": {},
   "outputs": [
    {
     "data": {
      "text/plain": [
       "8"
      ]
     },
     "execution_count": 9,
     "metadata": {},
     "output_type": "execute_result"
    }
   ],
   "source": [
    "# size\n",
    "a3.size"
   ]
  },
  {
   "cell_type": "code",
   "execution_count": 15,
   "id": "1bd83b73-ea83-4b78-b0ba-37e6a5368e03",
   "metadata": {},
   "outputs": [
    {
     "name": "stdout",
     "output_type": "stream",
     "text": [
      "4\n",
      "8\n"
     ]
    }
   ],
   "source": [
    "# itemsize\n",
    "print(a1.itemsize)\n",
    "print(a2.itemsize)\n"
   ]
  },
  {
   "cell_type": "code",
   "execution_count": 13,
   "id": "27dc3379-fba2-47ff-b578-67e6be0b012b",
   "metadata": {},
   "outputs": [
    {
     "name": "stdout",
     "output_type": "stream",
     "text": [
      "int32\n",
      "float64\n",
      "int32\n"
     ]
    }
   ],
   "source": [
    "# dtype\n",
    "print(a1.dtype)\n",
    "print(a2.dtype)\n",
    "print(a3.dtype)"
   ]
  },
  {
   "cell_type": "markdown",
   "id": "fa358905-5205-4200-a5ae-b84099ff7967",
   "metadata": {},
   "source": [
    "**Changing Datatype**"
   ]
  },
  {
   "cell_type": "code",
   "execution_count": 19,
   "id": "61db4fb3-a1f2-4121-acae-a18294f84879",
   "metadata": {},
   "outputs": [
    {
     "name": "stdout",
     "output_type": "stream",
     "text": [
      "int32\n"
     ]
    },
    {
     "data": {
      "text/plain": [
       "array([[[0, 1],\n",
       "        [2, 3]],\n",
       "\n",
       "       [[4, 5],\n",
       "        [6, 7]]], dtype=int64)"
      ]
     },
     "execution_count": 19,
     "metadata": {},
     "output_type": "execute_result"
    }
   ],
   "source": [
    "# astype\n",
    "print(a3.dtype)\n",
    "a3.astype(np.int64)"
   ]
  },
  {
   "cell_type": "markdown",
   "id": "6ab2cf34-8485-4709-a621-c1bbb42cf9ee",
   "metadata": {},
   "source": [
    "**Array Operations**"
   ]
  },
  {
   "cell_type": "code",
   "execution_count": 32,
   "id": "4dc5f408-c5fb-43f9-86ef-4cd31ac5d2a9",
   "metadata": {},
   "outputs": [],
   "source": [
    "a1 = np.arange(12).reshape(3,4)\n",
    "a2 = np.arange(12,24).reshape(3,4)"
   ]
  },
  {
   "cell_type": "code",
   "execution_count": 21,
   "id": "ab35dc51-fee5-44ff-9d89-45719f36463d",
   "metadata": {},
   "outputs": [
    {
     "data": {
      "text/plain": [
       "array([[ 2,  3,  4,  5],\n",
       "       [ 6,  7,  8,  9],\n",
       "       [10, 11, 12, 13]])"
      ]
     },
     "execution_count": 21,
     "metadata": {},
     "output_type": "execute_result"
    }
   ],
   "source": [
    "# Scalar Operation --> ek number se Operate karna\n",
    "\n",
    "# Arithmetic --> all operator works\n",
    "a1 + 2"
   ]
  },
  {
   "cell_type": "code",
   "execution_count": 25,
   "id": "f4627122-6282-4993-a1a7-e7946b0931ac",
   "metadata": {},
   "outputs": [
    {
     "data": {
      "text/plain": [
       "array([[False, False, False, False],\n",
       "       [False, False,  True,  True],\n",
       "       [ True,  True,  True,  True]])"
      ]
     },
     "execution_count": 25,
     "metadata": {},
     "output_type": "execute_result"
    }
   ],
   "source": [
    "# Relation operator --> All relational Operator\n",
    "a2 > 17  # itemwise comparison"
   ]
  },
  {
   "cell_type": "code",
   "execution_count": 34,
   "id": "36c11d0f-eff3-419d-9c96-6c0d5bcc2be0",
   "metadata": {},
   "outputs": [
    {
     "data": {
      "text/plain": [
       "array([[12, 14, 16, 18],\n",
       "       [20, 22, 24, 26],\n",
       "       [28, 30, 32, 34]])"
      ]
     },
     "execution_count": 34,
     "metadata": {},
     "output_type": "execute_result"
    }
   ],
   "source": [
    "# Vector operation --> Using on 2 numpy arrays\n",
    "\n",
    "# Arithmetic & Relational -- All operations\n",
    "\n",
    "a1 + a2 # since shape is same itemwise it is added (shape not same -- error)"
   ]
  },
  {
   "cell_type": "markdown",
   "id": "0d682e9c-0128-486d-904d-b7f0e117ad41",
   "metadata": {},
   "source": [
    "**Array Functions**"
   ]
  },
  {
   "cell_type": "code",
   "execution_count": 38,
   "id": "b3a28fa0-e1d1-437f-bb9f-3c0df8c0d176",
   "metadata": {},
   "outputs": [
    {
     "data": {
      "text/plain": [
       "array([[29., 77., 28.],\n",
       "       [86., 79., 76.],\n",
       "       [69., 46., 80.]])"
      ]
     },
     "execution_count": 38,
     "metadata": {},
     "output_type": "execute_result"
    }
   ],
   "source": [
    "a1 = np.random.random((3,3))\n",
    "a1 = np.round(a1*100) \n",
    "a1"
   ]
  },
  {
   "cell_type": "code",
   "execution_count": 40,
   "id": "608b2990-11da-41ea-bfb8-81d21b8327f6",
   "metadata": {},
   "outputs": [
    {
     "name": "stdout",
     "output_type": "stream",
     "text": [
      "86.0\n",
      "28.0\n",
      "570.0\n",
      "8197525921643520.0\n",
      "[77. 86. 80.]\n"
     ]
    }
   ],
   "source": [
    "# max/min/sum/prod\n",
    "# 0 -- coloumn & 1-- row\n",
    "print(np.max(a1))\n",
    "print(np.min(a1))\n",
    "print(np.sum(a1))\n",
    "print(np.prod(a1))\n",
    "print(np.max(a1,axis=1))"
   ]
  },
  {
   "cell_type": "code",
   "execution_count": 41,
   "id": "d83f7804-4b92-401c-8a34-5c5c35155807",
   "metadata": {},
   "outputs": [
    {
     "name": "stdout",
     "output_type": "stream",
     "text": [
      "63.333333333333336\n",
      "76.0\n",
      "21.457969252574774\n",
      "460.44444444444446\n",
      "[29. 79. 69.]\n"
     ]
    }
   ],
   "source": [
    "# mean/median/std/var\n",
    "\n",
    "print(np.mean(a1))\n",
    "print(np.median(a1))\n",
    "print(np.std(a1))\n",
    "print(np.var(a1))\n",
    "print(np.median(a1,axis=1))"
   ]
  },
  {
   "cell_type": "code",
   "execution_count": 42,
   "id": "65cc0766-3e88-4084-9336-b2aeba515cf9",
   "metadata": {},
   "outputs": [
    {
     "data": {
      "text/plain": [
       "array([[-0.66363388,  0.99952016,  0.27090579],\n",
       "       [-0.92345845, -0.44411267,  0.56610764],\n",
       "       [-0.11478481,  0.90178835, -0.99388865]])"
      ]
     },
     "execution_count": 42,
     "metadata": {},
     "output_type": "execute_result"
    }
   ],
   "source": [
    "# trignometric function\n",
    "\n",
    "np.sin(a1)"
   ]
  },
  {
   "cell_type": "code",
   "execution_count": 43,
   "id": "0393f36a-6d30-4c68-bbff-8a3daf217f1e",
   "metadata": {},
   "outputs": [],
   "source": [
    "# dot product --> first column == second row\n",
    "\n",
    "a2 = np.arange(12).reshape(3,4)\n",
    "a3 = np.arange(12,24).reshape(4,3)"
   ]
  },
  {
   "cell_type": "code",
   "execution_count": 44,
   "id": "ab438559-12c5-4d7f-a642-b39a40bd42cc",
   "metadata": {},
   "outputs": [
    {
     "data": {
      "text/plain": [
       "array([[114, 120, 126],\n",
       "       [378, 400, 422],\n",
       "       [642, 680, 718]])"
      ]
     },
     "execution_count": 44,
     "metadata": {},
     "output_type": "execute_result"
    }
   ],
   "source": [
    "np.dot(a2,a3)"
   ]
  },
  {
   "cell_type": "code",
   "execution_count": 46,
   "id": "b26600dc-e1bc-4ab4-8016-224d7547008b",
   "metadata": {},
   "outputs": [
    {
     "name": "stdout",
     "output_type": "stream",
     "text": [
      "[[3.36729583 4.34380542 3.33220451]\n",
      " [4.4543473  4.36944785 4.33073334]\n",
      " [4.2341065  3.8286414  4.38202663]]\n",
      "[[3.93133430e+12 2.75851345e+33 1.44625706e+12]\n",
      " [2.23524660e+37 2.03828107e+34 1.01480039e+33]\n",
      " [9.25378173e+29 9.49611942e+19 5.54062238e+34]]\n"
     ]
    }
   ],
   "source": [
    "# log and exponential\n",
    "\n",
    "print(np.log(a1))\n",
    "print(np.exp(a1))"
   ]
  },
  {
   "cell_type": "code",
   "execution_count": 51,
   "id": "5b5476f2-a241-48cf-b575-a737315df466",
   "metadata": {},
   "outputs": [
    {
     "name": "stdout",
     "output_type": "stream",
     "text": [
      "[0 1 2 3 4 5 6 7 8 9]\n",
      "[0. 1. 2. 3. 4. 5. 6. 7. 8. 9.]\n",
      "[0. 1. 2. 3. 4. 5. 6. 7. 8. 9.]\n"
     ]
    }
   ],
   "source": [
    "# round/floor/ceil\n",
    "\n",
    "print(np.round(np.arange(10)))\n",
    "print(np.floor(np.arange(10)))\n",
    "print(np.ceil(np.arange(10)))"
   ]
  },
  {
   "cell_type": "markdown",
   "id": "4f87993f-37d5-497e-bafc-b4d5a53b83dd",
   "metadata": {},
   "source": [
    "**Indexing and Slicing**"
   ]
  },
  {
   "cell_type": "code",
   "execution_count": 53,
   "id": "66a862fe-1fb3-42f5-8bdb-8bf90251b100",
   "metadata": {},
   "outputs": [],
   "source": [
    "a1 = np.arange(10)\n",
    "a2 = np.arange(12).reshape(3,4)\n",
    "a3 = np.arange(8).reshape(2,2,2)\n",
    "\n"
   ]
  },
  {
   "cell_type": "code",
   "execution_count": 57,
   "id": "e3b9af65-1cc7-412b-ad29-bb4586c0a197",
   "metadata": {},
   "outputs": [
    {
     "name": "stdout",
     "output_type": "stream",
     "text": [
      "[0 1 2 3 4 5 6 7 8 9]\n"
     ]
    },
    {
     "data": {
      "text/plain": [
       "9"
      ]
     },
     "execution_count": 57,
     "metadata": {},
     "output_type": "execute_result"
    }
   ],
   "source": [
    "# Indexing\n",
    "\n",
    "print(a1)\n",
    "a1[-1]"
   ]
  },
  {
   "cell_type": "code",
   "execution_count": 59,
   "id": "5c110f6a-f509-4ab8-a8de-1ac84789b6a3",
   "metadata": {},
   "outputs": [
    {
     "name": "stdout",
     "output_type": "stream",
     "text": [
      "[[ 0  1  2  3]\n",
      " [ 4  5  6  7]\n",
      " [ 8  9 10 11]]\n"
     ]
    },
    {
     "data": {
      "text/plain": [
       "6"
      ]
     },
     "execution_count": 59,
     "metadata": {},
     "output_type": "execute_result"
    }
   ],
   "source": [
    "# 2D array\n",
    "\n",
    "print(a2) \n",
    "a2[1,2] # row and column"
   ]
  },
  {
   "cell_type": "code",
   "execution_count": 60,
   "id": "16d5f695-5503-4adf-adba-fc5b7f38b27d",
   "metadata": {},
   "outputs": [
    {
     "name": "stdout",
     "output_type": "stream",
     "text": [
      "[[[0 1]\n",
      "  [2 3]]\n",
      "\n",
      " [[4 5]\n",
      "  [6 7]]]\n"
     ]
    },
    {
     "data": {
      "text/plain": [
       "5"
      ]
     },
     "execution_count": 60,
     "metadata": {},
     "output_type": "execute_result"
    }
   ],
   "source": [
    "# 3D array\n",
    "\n",
    "print(a3)\n",
    "a3[1,0,1]"
   ]
  },
  {
   "cell_type": "code",
   "execution_count": 61,
   "id": "5a0cfa57-9e74-4ad7-bb5a-f4973769ab5c",
   "metadata": {},
   "outputs": [
    {
     "name": "stdout",
     "output_type": "stream",
     "text": [
      "[0 1 2 3 4 5 6 7 8 9]\n"
     ]
    },
    {
     "data": {
      "text/plain": [
       "array([0, 2, 4, 6, 8])"
      ]
     },
     "execution_count": 61,
     "metadata": {},
     "output_type": "execute_result"
    }
   ],
   "source": [
    "# Slicing\n",
    "\n",
    "print(a1)\n",
    "a1[::2]"
   ]
  },
  {
   "cell_type": "code",
   "execution_count": 69,
   "id": "5d205826-71b1-4645-b79f-1de508520c9a",
   "metadata": {},
   "outputs": [
    {
     "name": "stdout",
     "output_type": "stream",
     "text": [
      "[[ 0  1  2  3]\n",
      " [ 4  5  6  7]\n",
      " [ 8  9 10 11]]\n",
      "[0 1 2 3]\n",
      "[ 2  6 10]\n",
      "[[ 5  6]\n",
      " [ 9 10]]\n",
      "[[ 0  3]\n",
      " [ 8 11]]\n",
      "[[ 1  3]\n",
      " [ 9 11]]\n"
     ]
    }
   ],
   "source": [
    "# 2D array\n",
    "\n",
    "print(a2)\n",
    "print(a2[0,:]) # only row\n",
    "print(a2[:,2]) # only coloumn\n",
    "print(a2[1:,1:3])\n",
    "print(a2[::2,::3])\n",
    "print(a2[::2,1::2])"
   ]
  },
  {
   "cell_type": "code",
   "execution_count": 73,
   "id": "699f023b-a4c1-475a-ac71-b15236b9518c",
   "metadata": {},
   "outputs": [
    {
     "name": "stdout",
     "output_type": "stream",
     "text": [
      "[[[ 0  1  2]\n",
      "  [ 3  4  5]\n",
      "  [ 6  7  8]]\n",
      "\n",
      " [[ 9 10 11]\n",
      "  [12 13 14]\n",
      "  [15 16 17]]\n",
      "\n",
      " [[18 19 20]\n",
      "  [21 22 23]\n",
      "  [24 25 26]]]\n"
     ]
    }
   ],
   "source": [
    "# 3D array\n",
    "\n",
    "a3 = np.arange(27).reshape(3,3,3)\n",
    "print(a3)"
   ]
  },
  {
   "cell_type": "code",
   "execution_count": 74,
   "id": "e3c99575-0da5-4c3b-8fb5-609bac48b080",
   "metadata": {},
   "outputs": [
    {
     "name": "stdout",
     "output_type": "stream",
     "text": [
      "[[ 9 10 11]\n",
      " [12 13 14]\n",
      " [15 16 17]]\n"
     ]
    }
   ],
   "source": [
    "print(a3[1])"
   ]
  },
  {
   "cell_type": "code",
   "execution_count": 75,
   "id": "cbe9cf70-4e81-4108-95b2-2020003c3a6f",
   "metadata": {},
   "outputs": [
    {
     "name": "stdout",
     "output_type": "stream",
     "text": [
      "[[[ 0  1  2]\n",
      "  [ 3  4  5]\n",
      "  [ 6  7  8]]\n",
      "\n",
      " [[18 19 20]\n",
      "  [21 22 23]\n",
      "  [24 25 26]]]\n"
     ]
    }
   ],
   "source": [
    "print(a3[::2])"
   ]
  },
  {
   "cell_type": "code",
   "execution_count": 76,
   "id": "5f362366-a3fc-43f2-87ea-bbb8fa70fdad",
   "metadata": {},
   "outputs": [
    {
     "name": "stdout",
     "output_type": "stream",
     "text": [
      "[3 4 5]\n"
     ]
    }
   ],
   "source": [
    "print(a3[0,1,:])"
   ]
  },
  {
   "cell_type": "code",
   "execution_count": 78,
   "id": "c4bcb519-5add-4c30-aa9d-9edf8aaa5810",
   "metadata": {},
   "outputs": [
    {
     "name": "stdout",
     "output_type": "stream",
     "text": [
      "[[12 14]\n",
      " [15 17]]\n"
     ]
    }
   ],
   "source": [
    "print(a3[1,1:,::2])"
   ]
  },
  {
   "cell_type": "code",
   "execution_count": 79,
   "id": "e8162b3b-f1c4-4e37-b2be-c27605a1f889",
   "metadata": {},
   "outputs": [],
   "source": [
    "# In above slicing\n",
    "# First number is for accessing the 2D array\n",
    "# Second number is for operating on the row of 2D array\n",
    "# Third number is for operating on the coloumn of 2D array"
   ]
  },
  {
   "cell_type": "markdown",
   "id": "51c873da-9cd1-4283-8008-896786210809",
   "metadata": {},
   "source": [
    "**Iterating**"
   ]
  },
  {
   "cell_type": "code",
   "execution_count": 83,
   "id": "bc2fe0a5-c481-4f9c-b397-a58a84f7846b",
   "metadata": {},
   "outputs": [
    {
     "name": "stdout",
     "output_type": "stream",
     "text": [
      "0\n",
      "1\n",
      "2\n",
      "3\n",
      "4\n",
      "5\n",
      "6\n",
      "7\n",
      "8\n",
      "9\n",
      "[0 1 2 3 4 5 6 7 8 9]\n"
     ]
    }
   ],
   "source": [
    "for i in (a1):\n",
    "    print(i)\n",
    "print(a1)"
   ]
  },
  {
   "cell_type": "code",
   "execution_count": 85,
   "id": "db2e478e-7a1f-444b-ac7a-64ae7aa7bb41",
   "metadata": {},
   "outputs": [
    {
     "name": "stdout",
     "output_type": "stream",
     "text": [
      "[0 1 2 3]\n",
      "[4 5 6 7]\n",
      "[ 8  9 10 11]\n",
      "[[ 0  1  2  3]\n",
      " [ 4  5  6  7]\n",
      " [ 8  9 10 11]]\n"
     ]
    }
   ],
   "source": [
    "# 2D array --> 1 row is printed every time\n",
    "for i in (a2):\n",
    "    print(i)\n",
    "print(a2)"
   ]
  },
  {
   "cell_type": "code",
   "execution_count": 86,
   "id": "3a847710-6a60-4bdc-979b-23e37ee7e71a",
   "metadata": {},
   "outputs": [
    {
     "name": "stdout",
     "output_type": "stream",
     "text": [
      "[[0 1 2]\n",
      " [3 4 5]\n",
      " [6 7 8]]\n",
      "[[ 9 10 11]\n",
      " [12 13 14]\n",
      " [15 16 17]]\n",
      "[[18 19 20]\n",
      " [21 22 23]\n",
      " [24 25 26]]\n",
      "[[[ 0  1  2]\n",
      "  [ 3  4  5]\n",
      "  [ 6  7  8]]\n",
      "\n",
      " [[ 9 10 11]\n",
      "  [12 13 14]\n",
      "  [15 16 17]]\n",
      "\n",
      " [[18 19 20]\n",
      "  [21 22 23]\n",
      "  [24 25 26]]]\n"
     ]
    }
   ],
   "source": [
    "# 3D array --> 2d array is printed\n",
    "for i in (a3):\n",
    "    print(i)\n",
    "print(a3)"
   ]
  },
  {
   "cell_type": "code",
   "execution_count": 87,
   "id": "7143b41a-d449-42f4-9c5b-ae3b685dfb6e",
   "metadata": {},
   "outputs": [
    {
     "name": "stdout",
     "output_type": "stream",
     "text": [
      "0\n",
      "1\n",
      "2\n",
      "3\n",
      "4\n",
      "5\n",
      "6\n",
      "7\n",
      "8\n",
      "9\n",
      "10\n",
      "11\n",
      "12\n",
      "13\n",
      "14\n",
      "15\n",
      "16\n",
      "17\n",
      "18\n",
      "19\n",
      "20\n",
      "21\n",
      "22\n",
      "23\n",
      "24\n",
      "25\n",
      "26\n"
     ]
    }
   ],
   "source": [
    "# for individual items\n",
    "\n",
    "for i in np.nditer(a3):\n",
    "    print(i)"
   ]
  },
  {
   "cell_type": "markdown",
   "id": "d565fd0d-898c-4061-b9d4-1268e4af92c7",
   "metadata": {},
   "source": [
    "**Reshaping**"
   ]
  },
  {
   "cell_type": "code",
   "execution_count": null,
   "id": "071b8d66-2e7c-4507-9fcf-a5d1b6fdbfe7",
   "metadata": {},
   "outputs": [],
   "source": [
    "# Reshape\n",
    "\n",
    "a2 = np.arange(10,40).reshape(5,6)\n",
    "a2"
   ]
  },
  {
   "cell_type": "code",
   "execution_count": 101,
   "id": "135d1e89-aeb4-4d1c-8307-3fa2efba801d",
   "metadata": {},
   "outputs": [
    {
     "data": {
      "text/plain": [
       "array([[10, 16, 22, 28, 34],\n",
       "       [11, 17, 23, 29, 35],\n",
       "       [12, 18, 24, 30, 36],\n",
       "       [13, 19, 25, 31, 37],\n",
       "       [14, 20, 26, 32, 38],\n",
       "       [15, 21, 27, 33, 39]])"
      ]
     },
     "execution_count": 101,
     "metadata": {},
     "output_type": "execute_result"
    }
   ],
   "source": [
    "# Transpose  # Temporary\n",
    "np.transpose(a2)\n",
    "a2.T # better syntax"
   ]
  },
  {
   "cell_type": "code",
   "execution_count": 102,
   "id": "099359c6-60a0-4b7c-a7be-846ac79f8a37",
   "metadata": {},
   "outputs": [
    {
     "data": {
      "text/plain": [
       "array([ 0,  1,  2,  3,  4,  5,  6,  7,  8,  9, 10, 11, 12, 13, 14, 15, 16,\n",
       "       17, 18, 19, 20, 21, 22, 23, 24, 25, 26])"
      ]
     },
     "execution_count": 102,
     "metadata": {},
     "output_type": "execute_result"
    }
   ],
   "source": [
    "# ravel --> any dimension array converted into 1D array\n",
    "# Temporary\n",
    "a2.ravel()\n",
    "a3.ravel()"
   ]
  },
  {
   "cell_type": "markdown",
   "id": "05fa4043-e640-4542-985f-8b9590f5b93a",
   "metadata": {},
   "source": [
    "**Stacking**"
   ]
  },
  {
   "cell_type": "code",
   "execution_count": 112,
   "id": "0a00e63e-f57a-4825-bda2-c5c6430c346b",
   "metadata": {},
   "outputs": [],
   "source": [
    "a4 = np.arange(12).reshape(3,4)\n",
    "a5 = np.arange(12,24).reshape(3,4)"
   ]
  },
  {
   "cell_type": "code",
   "execution_count": 113,
   "id": "00cd07c8-1b58-482e-abe9-9273c54eac8f",
   "metadata": {},
   "outputs": [
    {
     "data": {
      "text/plain": [
       "array([[ 0,  1,  2,  3, 12, 13, 14, 15],\n",
       "       [ 4,  5,  6,  7, 16, 17, 18, 19],\n",
       "       [ 8,  9, 10, 11, 20, 21, 22, 23]])"
      ]
     },
     "execution_count": 113,
     "metadata": {},
     "output_type": "execute_result"
    }
   ],
   "source": [
    "# Horizontal Stacking (joining two numpy arrays) # permanent # size same\n",
    "\n",
    "np.hstack((a4,a5))"
   ]
  },
  {
   "cell_type": "code",
   "execution_count": 111,
   "id": "a9edd4b7-b75d-424b-abd0-96d28385a650",
   "metadata": {},
   "outputs": [
    {
     "data": {
      "text/plain": [
       "array([[ 0,  1,  2,  3],\n",
       "       [ 4,  5,  6,  7],\n",
       "       [ 8,  9, 10, 11],\n",
       "       [12, 13, 14, 15],\n",
       "       [16, 17, 18, 19],\n",
       "       [20, 21, 22, 23]])"
      ]
     },
     "execution_count": 111,
     "metadata": {},
     "output_type": "execute_result"
    }
   ],
   "source": [
    "np.vstack((a4,a5))"
   ]
  },
  {
   "cell_type": "markdown",
   "id": "d5f87a53-c7a5-41ce-8cad-8e8b0da511d4",
   "metadata": {},
   "source": [
    "**Splitting**"
   ]
  },
  {
   "cell_type": "code",
   "execution_count": 114,
   "id": "595db6c9-ed6e-4de4-8041-8b654ee70b6a",
   "metadata": {},
   "outputs": [],
   "source": [
    "a4 = np.arange(12).reshape(3,4)\n",
    "a5 = np.arange(12,24).reshape(3,4)"
   ]
  },
  {
   "cell_type": "code",
   "execution_count": 119,
   "id": "7c5d333b-be23-4dff-8afc-09d7ed3d0146",
   "metadata": {},
   "outputs": [
    {
     "data": {
      "text/plain": [
       "[array([[0, 1],\n",
       "        [4, 5],\n",
       "        [8, 9]]),\n",
       " array([[ 2,  3],\n",
       "        [ 6,  7],\n",
       "        [10, 11]])]"
      ]
     },
     "execution_count": 119,
     "metadata": {},
     "output_type": "execute_result"
    }
   ],
   "source": [
    "# Horizontal Stacking (spliting two numpy arrays(vertically)) # permanent # size same\n",
    "\n",
    "np.hsplit(a4,2)  # equal division should be there"
   ]
  },
  {
   "cell_type": "code",
   "execution_count": 121,
   "id": "c50e91bd-5e60-4a3c-9c90-09922130e624",
   "metadata": {},
   "outputs": [
    {
     "data": {
      "text/plain": [
       "[array([[12, 13, 14, 15]]),\n",
       " array([[16, 17, 18, 19]]),\n",
       " array([[20, 21, 22, 23]])]"
      ]
     },
     "execution_count": 121,
     "metadata": {},
     "output_type": "execute_result"
    }
   ],
   "source": [
    "np.vsplit(a5,3)"
   ]
  },
  {
   "cell_type": "code",
   "execution_count": null,
   "id": "d818c73f-6cbf-407f-90cf-bea460211f7e",
   "metadata": {},
   "outputs": [],
   "source": []
  }
 ],
 "metadata": {
  "kernelspec": {
   "display_name": "Python 3 (ipykernel)",
   "language": "python",
   "name": "python3"
  },
  "language_info": {
   "codemirror_mode": {
    "name": "ipython",
    "version": 3
   },
   "file_extension": ".py",
   "mimetype": "text/x-python",
   "name": "python",
   "nbconvert_exporter": "python",
   "pygments_lexer": "ipython3",
   "version": "3.11.7"
  }
 },
 "nbformat": 4,
 "nbformat_minor": 5
}
